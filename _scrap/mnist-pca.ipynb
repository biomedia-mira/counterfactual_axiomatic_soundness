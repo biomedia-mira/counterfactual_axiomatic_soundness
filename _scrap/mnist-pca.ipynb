{
 "cells": [
  {
   "cell_type": "code",
   "execution_count": 3,
   "id": "fresh-painting",
   "metadata": {},
   "outputs": [],
   "source": [
    "import numpy as np\n",
    "import itertools\n",
    "import torch\n",
    "import torchvision\n",
    "import torchvision.transforms as transforms\n",
    "from torch.utils.data.dataset import Dataset\n",
    "from abc import ABC, abstractmethod\n",
    "from typing import Any, Sequence, Tuple"
   ]
  },
  {
   "cell_type": "code",
   "execution_count": 4,
   "id": "verbal-subdivision",
   "metadata": {},
   "outputs": [],
   "source": [
    "COLORS = ((1, 0, 0),\n",
    "          (0, 1, 0),\n",
    "          (0, 0, 1),\n",
    "          (1, 1, 0),\n",
    "          (1, 0, 1),\n",
    "          (0, 1, 1),\n",
    "          (1, 1, 1),\n",
    "          (.5, 0, 0),\n",
    "          (0, .5, 0),\n",
    "          (0, 0, .5))\n",
    "\n",
    "class Mechanism(ABC):\n",
    "    @abstractmethod\n",
    "    def __call__(self, images: torch.Tensor, labels: torch.Tensor) -> torch.Tensor:\n",
    "        pass\n",
    "\n",
    "\n",
    "class Colorize(Mechanism):\n",
    "    def __init__(self, num_colors: int = 10):\n",
    "        assert num_colors <= 10\n",
    "        self.color_mapping = torch.zeros(10, 3)\n",
    "        for label, color in zip(range(10), itertools.cycle(COLORS[:num_colors])):\n",
    "            self.color_mapping[label] = torch.tensor(color)\n",
    "\n",
    "    def __call__(self, image: torch.Tensor, label: torch.Tensor) -> torch.Tensor:\n",
    "        return torch.cat([image] * 3, dim=0) * self.color_mapping[label].view(3, 1, 1)\n",
    "\n",
    "\n",
    "class CounfoundedDataset(Dataset):\n",
    "    def __init__(self, root: str, mechanisms: Sequence[Mechanism], train: bool = True, download: bool = False) -> None:\n",
    "        self.base_dataset = torchvision.datasets.MNIST(root=root, train=train, download=download,\n",
    "                                                       transform=transforms.ToTensor())\n",
    "        self.mechanisms = mechanisms\n",
    "        self.train = train\n",
    "\n",
    "    def __getitem__(self, index: int) -> Tuple[Any, Any]:\n",
    "        image, label = self.base_dataset.__getitem__(index)\n",
    "        for mechanism in self.mechanisms:\n",
    "            image = mechanism(image, label if self.train else np.random.randint(0, 10))\n",
    "\n",
    "        return image, label\n",
    "\n",
    "    def __len__(self):\n",
    "        return len(self.base_dataset)\n"
   ]
  },
  {
   "cell_type": "code",
   "execution_count": 5,
   "id": "adapted-reliance",
   "metadata": {},
   "outputs": [],
   "source": [
    "path = './data/mnist/'\n",
    "\n",
    "#img_size = [28, 28]\n",
    "#trainset = torchvision.datasets.MNIST(path, train=True, download=False, transform=transforms.ToTensor())\n",
    "\n",
    "img_size = [3, 28, 28]\n",
    "trainset = CounfoundedDataset(path, mechanisms=[Colorize(10)], train=True, download=False)\n",
    "\n",
    "trainloader = torch.utils.data.DataLoader(trainset, batch_size=100, shuffle=True, num_workers=0)"
   ]
  },
  {
   "cell_type": "code",
   "execution_count": 6,
   "id": "natural-darkness",
   "metadata": {},
   "outputs": [
    {
     "name": "stdout",
     "output_type": "stream",
     "text": [
      "Dimension:\t2352\n",
      "Samples:\t10000\n"
     ]
    }
   ],
   "source": [
    "data = []\n",
    "for image, _ in trainloader:\n",
    "    data.append(image.detach().numpy())\n",
    "data = np.concatenate(data)\n",
    "X = data.reshape(data.shape[0], np.prod(img_size))\n",
    "X = X[:10000].T\n",
    "m, n = X.shape\n",
    "print('Dimension:\\t' + str(m))\n",
    "print('Samples:\\t' + str(n))"
   ]
  },
  {
   "cell_type": "code",
   "execution_count": 7,
   "id": "intimate-space",
   "metadata": {},
   "outputs": [
    {
     "name": "stdout",
     "output_type": "stream",
     "text": [
      "1.0\n"
     ]
    }
   ],
   "source": [
    "print(np.max(X))"
   ]
  },
  {
   "cell_type": "code",
   "execution_count": 8,
   "id": "fiscal-treaty",
   "metadata": {},
   "outputs": [
    {
     "name": "stdout",
     "output_type": "stream",
     "text": [
      "Size before PCA: (2352, 10000)\n",
      "Size after PCA: (2352, 10000)\n",
      "Size of U: (2352, 2352)\n",
      "Size of D: (2352,)\n"
     ]
    }
   ],
   "source": [
    "import numpy as np\n",
    "from sklearn import decomposition\n",
    "\n",
    "pca = decomposition.PCA(whiten=False)\n",
    "\n",
    "X_prime = pca.fit_transform(X.T).T\n",
    "mu = pca.mean_\n",
    "U = pca.components_.T\n",
    "D = pca.singular_values_**2 / (n - 1)\n",
    "exp_var = pca.explained_variance_ratio_\n",
    "\n",
    "print('Size before PCA: ' + str(X.shape))\n",
    "print('Size after PCA: ' + str(X_prime.shape))\n",
    "\n",
    "print('Size of U: ' + str(U.shape))\n",
    "print('Size of D: ' + str(D.shape))"
   ]
  },
  {
   "cell_type": "code",
   "execution_count": 9,
   "id": "caroline-essay",
   "metadata": {},
   "outputs": [
    {
     "data": {
      "text/plain": "<Figure size 432x288 with 1 Axes>",
      "image/png": "[encoded data removed]"
     },
     "metadata": {
      "needs_background": "light"
     },
     "output_type": "display_data"
    }
   ],
   "source": [
    "%matplotlib inline\n",
    "import matplotlib.pyplot as plt\n",
    "\n",
    "fig, ax = plt.subplots()\n",
    "ax.plot(np.cumsum(exp_var))\n",
    "ax.set_xlabel('Mode')\n",
    "ax.set_ylabel('Retained Variance')\n",
    "plt.show()    "
   ]
  },
  {
   "cell_type": "code",
   "execution_count": 10,
   "id": "ordered-hacker",
   "metadata": {},
   "outputs": [
    {
     "data": {
      "text/plain": "<Figure size 1008x288 with 5 Axes>",
      "image/png": "[encoded data removed]"
     },
     "metadata": {
      "needs_background": "light"
     },
     "output_type": "display_data"
    }
   ],
   "source": [
    "mu_img = mu\n",
    "mode1 = U[:,0] * np.sqrt(D[0])*1;\n",
    "mode2 = U[:,1] * np.sqrt(D[1])*1;\n",
    "mode3 = U[:,2] * np.sqrt(D[2])*1;\n",
    "mode4 = U[:,3] * np.sqrt(D[3])*1;\n",
    "\n",
    "mu_img -= np.min(mu_img)\n",
    "mode1 -= np.min(mode1)\n",
    "mode2 -= np.min(mode2)\n",
    "mode3 -= np.min(mode3)\n",
    "mode4 -= np.min(mode4)\n",
    "\n",
    "mu_img /= np.max(mu_img)\n",
    "mode1 /= np.max(mode1)\n",
    "mode2 /= np.max(mode2)\n",
    "mode3 /= np.max(mode3)\n",
    "mode4 /= np.max(mode4)\n",
    "\n",
    "fig, (ax1, ax2, ax3, ax4, ax5) = plt.subplots(1, 5, figsize=(14, 4))\n",
    "ax1.imshow(mu_img.reshape(img_size).transpose(1, 2, 0))\n",
    "ax2.imshow(mode1.reshape(img_size).transpose(1, 2, 0))\n",
    "ax3.imshow(mode2.reshape(img_size).transpose(1, 2, 0))\n",
    "ax4.imshow(mode3.reshape(img_size).transpose(1, 2, 0))\n",
    "ax5.imshow(mode4.reshape(img_size).transpose(1, 2, 0))\n",
    "plt.show()"
   ]
  },
  {
   "cell_type": "code",
   "execution_count": 11,
   "id": "pharmaceutical-habitat",
   "metadata": {},
   "outputs": [
    {
     "data": {
      "text/plain": "interactive(children=(FloatSlider(value=0.0, description='s1', max=21.138060092926025, min=-21.138060092926025…",
      "application/vnd.jupyter.widget-view+json": {
       "version_major": 2,
       "version_minor": 0,
       "model_id": "d1a4026accad474b953429d89734d03d"
      }
     },
     "metadata": {},
     "output_type": "display_data"
    }
   ],
   "source": [
    "from ipywidgets import interact, fixed\n",
    "\n",
    "def plot_digit(mean_shape,modes,s1,s2,s3,s4):\n",
    "    image = mu + U[:,0] * s1 + U[:,1] * s2 + U[:,2] * s3 + U[:,3] * s4\n",
    "    image -= np.min(image)\n",
    "    image /= np.max(image)\n",
    "    plt.imshow(image.reshape(img_size).transpose(1, 2, 0))\n",
    "\n",
    "def interactive_pca(mu,U,D):\n",
    "    interact(plot_digit,mean_shape=fixed(mu),modes=fixed(U),\n",
    "             **{'s%d' % (i+1): (-np.sqrt(D[i]) * 6, np.sqrt(D[i]) * 6, np.sqrt(D[i])) for i in range(4)});\n",
    "\n",
    "interactive_pca(mu,U,D)"
   ]
  },
  {
   "cell_type": "code",
   "execution_count": 11,
   "id": "obvious-generic",
   "metadata": {},
   "outputs": [],
   "source": []
  }
 ],
 "metadata": {
  "kernelspec": {
   "name": "pycharm-e32d29fd",
   "language": "python",
   "display_name": "PyCharm (grand_canyon)"
  },
  "language_info": {
   "codemirror_mode": {
    "name": "ipython",
    "version": 3
   },
   "file_extension": ".py",
   "mimetype": "text/x-python",
   "name": "python",
   "nbconvert_exporter": "python",
   "pygments_lexer": "ipython3",
   "version": "3.8.8"
  }
 },
 "nbformat": 4,
 "nbformat_minor": 5
}